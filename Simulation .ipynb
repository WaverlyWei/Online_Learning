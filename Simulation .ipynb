{
 "cells": [
  {
   "cell_type": "code",
   "execution_count": 91,
   "metadata": {},
   "outputs": [],
   "source": [
    "import numpy as np \n",
    "np.random.seed(192638)"
   ]
  },
  {
   "cell_type": "code",
   "execution_count": 92,
   "metadata": {},
   "outputs": [],
   "source": [
    "# This function is used to generate covariates streaming data \n",
    "# n: number of samples \n",
    "\n",
    "def cov_simulator(n):\n",
    "    W1 = np.random.uniform(-4,4,n).reshape(n,1)\n",
    "    W2 = np.random.normal(0,1,n).reshape(n,1)\n",
    "    W3 = np.random.binomial(1,0.5,n).reshape(n,1)\n",
    "    W4 = np.random.uniform(-4,4,n).reshape(n,1)\n",
    "    W5 = np.random.normal(0,1,n).reshape(n,1)\n",
    "    W6 = np.random.binomial(1,0.25,n).reshape(n,1)\n",
    "    W7 = np.random.uniform(0,1,n).reshape(n,1)\n",
    "    dat = np.concatenate((W1,W2,W3,W4,W5,W6,W7),axis=1)\n",
    "    return dat\n",
    "    "
   ]
  },
  {
   "cell_type": "markdown",
   "metadata": {},
   "source": [
    "The conditional mean of response variable Y is generated following this formula:\n",
    "$$logit((\\psi_0(W)) = -2 + 0.1W_1^2 + W_2W_3 - W_4W_6 - W_5 + 0.7logW_7 $$"
   ]
  },
  {
   "cell_type": "code",
   "execution_count": 102,
   "metadata": {},
   "outputs": [],
   "source": [
    "# This function is used to generate response streaming data \n",
    "# n: number of samples \n",
    "def res_simulator(cov_dat):\n",
    "    Y = -2 + 0.1 * cov_dat[:,0]**2 \n",
    "    + cov_dat[:,1]*cov_dat[:,2] \n",
    "    - cov_dat[:,3]*cov_dat[:,5]\n",
    "    - cov_dat[:,4]\n",
    "    + 0.7*np.log(cov_dat[:,6])\n",
    "    return Y\n",
    "    "
   ]
  },
  {
   "cell_type": "code",
   "execution_count": 103,
   "metadata": {},
   "outputs": [
    {
     "data": {
      "text/plain": [
       "(500, 7)"
      ]
     },
     "execution_count": 103,
     "metadata": {},
     "output_type": "execute_result"
    }
   ],
   "source": [
    "# Test simulator \n",
    "cov_dat = cov_simulator(500)\n",
    "cov_dat.shape"
   ]
  },
  {
   "cell_type": "code",
   "execution_count": 109,
   "metadata": {},
   "outputs": [
    {
     "data": {
      "text/plain": [
       "(500, 1)"
      ]
     },
     "execution_count": 109,
     "metadata": {},
     "output_type": "execute_result"
    }
   ],
   "source": [
    "res_dat = res_simulator(cov_dat).reshape(500,1)\n",
    "res_dat.shape"
   ]
  },
  {
   "cell_type": "code",
   "execution_count": null,
   "metadata": {},
   "outputs": [],
   "source": []
  }
 ],
 "metadata": {
  "kernelspec": {
   "display_name": "Python 3",
   "language": "python",
   "name": "python3"
  },
  "language_info": {
   "codemirror_mode": {
    "name": "ipython",
    "version": 3
   },
   "file_extension": ".py",
   "mimetype": "text/x-python",
   "name": "python",
   "nbconvert_exporter": "python",
   "pygments_lexer": "ipython3",
   "version": "3.5.5"
  }
 },
 "nbformat": 4,
 "nbformat_minor": 2
}
