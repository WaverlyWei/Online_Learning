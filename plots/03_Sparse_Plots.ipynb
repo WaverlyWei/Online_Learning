{
 "cells": [
  {
   "cell_type": "code",
   "execution_count": 2,
   "metadata": {},
   "outputs": [
    {
     "name": "stdout",
     "output_type": "stream",
     "text": [
      "Populating the interactive namespace from numpy and matplotlib\n"
     ]
    }
   ],
   "source": [
    "# prepare python\n",
    "%pylab inline\n",
    "import numpy as np\n",
    "from sklearn.datasets import make_regression\n",
    "from mpl_toolkits.mplot3d import Axes3D"
   ]
  },
  {
   "cell_type": "code",
   "execution_count": 3,
   "metadata": {},
   "outputs": [],
   "source": [
    "# simulate population\n",
    "pop1_X, pop1_Y = make_regression(n_samples=100, noise=20, n_informative=1, n_features=1, random_state=1, bias=0) \n",
    "pop2_X, pop2_Y = make_regression(n_samples=100, noise=20, n_informative=1, n_features=1, random_state=1, bias=100) \n",
    "pop3_X, pop3_Y = make_regression(n_samples=100, noise=20, n_informative=1, n_features=1, random_state=1, bias=-100) "
   ]
  },
  {
   "cell_type": "code",
   "execution_count": 4,
   "metadata": {},
   "outputs": [],
   "source": [
    "# set percentage of sparseness\n",
    "# x1 : 20%\n",
    "# x2: 10%\n",
    "# x3: 30%\n",
    "indices_1 = np.random.choice(np.arange(pop1_X.size), replace=False,\n",
    "                           size=int(pop1_X.size * 0.2))\n",
    "pop1_X[indices_1] = 0\n",
    "pop1_Y[indices_1] = 0\n",
    "indices_2 = np.random.choice(np.arange(pop2_X.size), replace=False,\n",
    "                           size=int(pop2_X.size * 0.1))\n",
    "pop2_X[indices_2] = 0\n",
    "pop2_Y[indices_2] = 0\n",
    "indices_3 = np.random.choice(np.arange(pop3_X.size), replace=False,\n",
    "                           size=int(pop3_X.size * 0.3))\n",
    "pop3_X[indices_3] = 0\n",
    "pop3_Y[indices_3] = 0"
   ]
  },
  {
   "cell_type": "code",
   "execution_count": 5,
   "metadata": {},
   "outputs": [],
   "source": [
    "# combine as matrix \n",
    "pop_X = np.concatenate((pop1_X,pop2_X,pop3_X))\n",
    "pop_Y = np.concatenate((pop1_Y, 2 * pop2_Y, -2 * pop3_Y))"
   ]
  },
  {
   "cell_type": "code",
   "execution_count": 6,
   "metadata": {},
   "outputs": [
    {
     "data": {
      "text/plain": [
       "(300, 2)"
      ]
     },
     "execution_count": 6,
     "metadata": {},
     "output_type": "execute_result"
    }
   ],
   "source": [
    "# Add intercept to covariates \n",
    "pop_X = np.append(np.vstack(np.ones(len(pop_X))),pop_X,1)\n",
    "pop_X.shape"
   ]
  },
  {
   "cell_type": "code",
   "execution_count": 7,
   "metadata": {},
   "outputs": [],
   "source": [
    "pop_Y = np.vstack(pop_Y)"
   ]
  },
  {
   "cell_type": "markdown",
   "metadata": {},
   "source": [
    "## I. SGD with sparse streaming data"
   ]
  },
  {
   "cell_type": "code",
   "execution_count": 8,
   "metadata": {},
   "outputs": [],
   "source": [
    "## parameters\n",
    "n_learning_rate = 0.1 \n",
    "# same prediction and cost function as before \n",
    "## Specify prediction function\n",
    "def fx(theta, X):\n",
    "    return np.dot(X, theta)\n",
    " \n",
    "## specify cost function\n",
    "def fcost(theta, X, y):\n",
    "    return (1./2*len(X)) * sum((fx(theta,X) - y)**2) "
   ]
  },
  {
   "cell_type": "code",
   "execution_count": 9,
   "metadata": {},
   "outputs": [],
   "source": [
    "## specify function to calculate gradient at a given theta - returns a vector of length(theta)\n",
    "# different from gradient descent method \n",
    "# not summing up the gradients \n",
    "def gradient(theta, X, y):\n",
    "    grad_theta = (1./len(X)) * np.multiply((fx(theta, X)) - y, X) \n",
    "    return grad_theta"
   ]
  },
  {
   "cell_type": "code",
   "execution_count": 10,
   "metadata": {},
   "outputs": [],
   "source": [
    "### DO stochastic gradient descent\n",
    "# starting values for alpha & beta\n",
    "theta = [0,0]"
   ]
  },
  {
   "cell_type": "code",
   "execution_count": 11,
   "metadata": {},
   "outputs": [],
   "source": [
    "# store starting theta & cost\n",
    "arraytheta = np.array([theta])\n",
    "arraycost = np.array([])"
   ]
  },
  {
   "cell_type": "code",
   "execution_count": 12,
   "metadata": {},
   "outputs": [],
   "source": [
    "# feed data through and update theta; capture cost and theta history\n",
    "for i in range(0, len(pop_X)):\n",
    "    \n",
    "    # calculate cost for theta on CURRENT point\n",
    "    cost = fcost(theta, pop_X[i], pop_Y[i])\n",
    "    arraycost = np.append(arraycost, cost)\n",
    "    \n",
    "    # update theta with gradient descent\n",
    "    theta = theta - n_learning_rate * gradient(theta, pop_X[i], pop_Y[i])\n",
    "    arraytheta = np.vstack([arraytheta, theta])\n",
    " "
   ]
  },
  {
   "cell_type": "code",
   "execution_count": 34,
   "metadata": {},
   "outputs": [
    {
     "data": {
      "text/plain": [
       "Text(0, 0.5, 'Loss')"
      ]
     },
     "execution_count": 34,
     "metadata": {},
     "output_type": "execute_result"
    },
    {
     "data": {
      "image/png": "[encoded data removed]",
      "text/plain": [
       "<Figure size 432x288 with 1 Axes>"
      ]
     },
     "metadata": {
      "needs_background": "light"
     },
     "output_type": "display_data"
    }
   ],
   "source": [
    "# plot the prediction error \n",
    "plt.plot(arraycost,'r')\n",
    "plt.title('SGD',fontsize = 20)\n",
    "plt.xlabel('Observations',fontsize=15)\n",
    "plt.ylabel('Loss',fontsize = 15)"
   ]
  },
  {
   "cell_type": "markdown",
   "metadata": {},
   "source": [
    "## II. Adagrad with sparse streaming data"
   ]
  },
  {
   "cell_type": "code",
   "execution_count": 29,
   "metadata": {},
   "outputs": [],
   "source": [
    "theta_ada = np.array([0,0])\n",
    "G = np.zeros(pop_X.shape[1])"
   ]
  },
  {
   "cell_type": "code",
   "execution_count": 30,
   "metadata": {},
   "outputs": [],
   "source": [
    "# store starting theta & cost\n",
    "arraytheta_ada = np.array([theta_ada])\n",
    "arraycost_ada = np.array([])"
   ]
  },
  {
   "cell_type": "code",
   "execution_count": 31,
   "metadata": {},
   "outputs": [],
   "source": [
    "## parameters\n",
    "n_learning_rate = 100\n",
    "eps = 10**-8"
   ]
  },
  {
   "cell_type": "code",
   "execution_count": 32,
   "metadata": {},
   "outputs": [],
   "source": [
    "for i in range(0, len(pop_X)):\n",
    "    # calculate cost for theta on CURRENT point\n",
    "    cost = fcost(theta_ada, pop_X[i], pop_Y[i])\n",
    "    arraycost_ada = np.append(arraycost_ada, cost)\n",
    "    \n",
    "    # update theta with gradient descent\n",
    "    grad = gradient(theta_ada, pop_X[i], pop_Y[i])\n",
    "    G += grad*grad\n",
    "    theta_ada = theta_ada - n_learning_rate*grad/np.sqrt(eps+G)\n",
    "    \n",
    "    arraytheta_ada = np.vstack([arraytheta_ada, theta_ada])"
   ]
  },
  {
   "cell_type": "code",
   "execution_count": 39,
   "metadata": {},
   "outputs": [
    {
     "data": {
      "text/plain": [
       "Text(0, 0.5, 'Loss')"
      ]
     },
     "execution_count": 39,
     "metadata": {},
     "output_type": "execute_result"
    },
    {
     "data": {
      "image/png": "[encoded data removed]",
      "text/plain": [
       "<Figure size 432x288 with 1 Axes>"
      ]
     },
     "metadata": {
      "needs_background": "light"
     },
     "output_type": "display_data"
    }
   ],
   "source": [
    "# plot the prediction error \n",
    "plt.plot(arraycost_ada,'b')\n",
    "plt.title('Adagrad-Sparse',fontsize = 20)\n",
    "plt.xlabel('Observations',fontsize=15)\n",
    "plt.ylabel('Loss',fontsize = 15)"
   ]
  },
  {
   "cell_type": "markdown",
   "metadata": {},
   "source": [
    "## III RMSprop with sparse streaming data"
   ]
  },
  {
   "cell_type": "code",
   "execution_count": 24,
   "metadata": {},
   "outputs": [],
   "source": [
    "theta_rms = np.array([0,0])\n",
    "G = np.zeros(pop_X.shape[1])"
   ]
  },
  {
   "cell_type": "code",
   "execution_count": 25,
   "metadata": {},
   "outputs": [],
   "source": [
    "# store starting theta & cost\n",
    "arraytheta_rms = np.array([theta_rms])\n",
    "arraycost_rms = np.array([])"
   ]
  },
  {
   "cell_type": "code",
   "execution_count": 26,
   "metadata": {},
   "outputs": [],
   "source": [
    "## parameters\n",
    "n_learning_rate = 10\n",
    "eps = 10**-8"
   ]
  },
  {
   "cell_type": "code",
   "execution_count": 27,
   "metadata": {},
   "outputs": [],
   "source": [
    "for i in range(0, len(pop_X)):\n",
    "    # calculate cost for theta on CURRENT point\n",
    "    cost = fcost(theta_rms, pop_X[i], pop_Y[i])\n",
    "    arraycost_rms = np.append(arraycost_rms, cost)\n",
    "    \n",
    "    # update theta with gradient descent\n",
    "    grad = gradient(theta_rms, pop_X[i], pop_Y[i])\n",
    "    G = 0.9*G + 0.1*grad*grad\n",
    "    theta_rms = theta_rms - n_learning_rate*grad/np.sqrt(eps+G)\n",
    "    \n",
    "    arraytheta_rms = np.vstack([arraytheta_rms, theta_rms])"
   ]
  },
  {
   "cell_type": "code",
   "execution_count": 38,
   "metadata": {},
   "outputs": [
    {
     "data": {
      "text/plain": [
       "Text(0, 0.5, 'Loss')"
      ]
     },
     "execution_count": 38,
     "metadata": {},
     "output_type": "execute_result"
    },
    {
     "data": {
      "image/png": "[encoded data removed]",
      "text/plain": [
       "<Figure size 432x288 with 1 Axes>"
      ]
     },
     "metadata": {
      "needs_background": "light"
     },
     "output_type": "display_data"
    }
   ],
   "source": [
    "# plot the prediction error \n",
    "plt.plot(arraycost_rms,'g')\n",
    "plt.title('RMSprop-Sparse',fontsize = 20)\n",
    "plt.xlabel('Observations',fontsize=15)\n",
    "plt.ylabel('Loss',fontsize = 15)"
   ]
  },
  {
   "cell_type": "code",
   "execution_count": null,
   "metadata": {},
   "outputs": [],
   "source": []
  }
 ],
 "metadata": {
  "kernelspec": {
   "display_name": "Python 3",
   "language": "python",
   "name": "python3"
  },
  "language_info": {
   "codemirror_mode": {
    "name": "ipython",
    "version": 3
   },
   "file_extension": ".py",
   "mimetype": "text/x-python",
   "name": "python",
   "nbconvert_exporter": "python",
   "pygments_lexer": "ipython3",
   "version": "3.5.5"
  }
 },
 "nbformat": 4,
 "nbformat_minor": 2
}
