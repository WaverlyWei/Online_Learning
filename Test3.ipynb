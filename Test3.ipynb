{
 "cells": [
  {
   "cell_type": "code",
   "execution_count": 1,
   "metadata": {},
   "outputs": [
    {
     "name": "stdout",
     "output_type": "stream",
     "text": [
      "Populating the interactive namespace from numpy and matplotlib\n"
     ]
    }
   ],
   "source": [
    "# prepare python\n",
    "%pylab inline\n",
    "import numpy as np\n",
    "from sklearn.datasets import make_regression\n",
    "from mpl_toolkits.mplot3d import Axes3D\n",
    "import matplotlib.pyplot as plt"
   ]
  },
  {
   "cell_type": "markdown",
   "metadata": {},
   "source": [
    "## I. Polynomial Dataset"
   ]
  },
  {
   "cell_type": "code",
   "execution_count": 16,
   "metadata": {},
   "outputs": [],
   "source": [
    "# simulate population\n",
    "pop1_X, pop1_Y = make_regression(n_samples=100, noise=10, n_informative=1, n_features=1, random_state=1, bias=0) \n",
    "pop2_X, pop2_Y = make_regression(n_samples=100, noise=10, n_informative=1, n_features=1, random_state=1, bias=100) \n",
    "pop3_X, pop3_Y = make_regression(n_samples=100, noise=10, n_informative=1, n_features=1, random_state=1, bias=-100)"
   ]
  },
  {
   "cell_type": "code",
   "execution_count": 17,
   "metadata": {},
   "outputs": [],
   "source": [
    "# combine as matrix \n",
    "pop_X = np.concatenate((pop1_X,pop2_X,pop3_X))\n",
    "pop_Y = np.concatenate((pop1_Y, 2 * pop2_Y, -2 * pop3_Y))\n",
    "pop_Y = np.vstack(pop_Y)"
   ]
  },
  {
   "cell_type": "code",
   "execution_count": null,
   "metadata": {},
   "outputs": [],
   "source": []
  },
  {
   "cell_type": "code",
   "execution_count": 18,
   "metadata": {},
   "outputs": [],
   "source": [
    "# 1D polynominal data generater\n",
    "def poly_generater_1D(X,n=3,flag=1):\n",
    "    d = len(X)\n",
    "    X_0 = X.copy()\n",
    "    \n",
    "    for i in range(2,n+1):\n",
    "        X = np.vstack([X,X_0**(i)])\n",
    "    \n",
    "    if flag == 1:\n",
    "        X = np.vstack([X,np.ones(d)])\n",
    "        \n",
    "    X = X.T\n",
    "    return X\n"
   ]
  },
  {
   "cell_type": "code",
   "execution_count": 19,
   "metadata": {},
   "outputs": [
    {
     "data": {
      "text/plain": [
       "(300, 3)"
      ]
     },
     "execution_count": 19,
     "metadata": {},
     "output_type": "execute_result"
    }
   ],
   "source": [
    "# the model now is more complicated\n",
    "\n",
    "pop_X = poly_generater_1D(pop_X.flatten(),2)\n",
    "pop_X.shape"
   ]
  },
  {
   "cell_type": "code",
   "execution_count": null,
   "metadata": {},
   "outputs": [],
   "source": []
  },
  {
   "cell_type": "markdown",
   "metadata": {},
   "source": [
    "## SGD"
   ]
  },
  {
   "cell_type": "code",
   "execution_count": 20,
   "metadata": {},
   "outputs": [],
   "source": [
    "## parameters\n",
    "n_learning_rate = 0.1\n",
    "# same prediction and cost function as before \n",
    "## Specify prediction function\n",
    "def fx(theta, X):\n",
    "    return np.dot(X, theta)\n",
    " \n",
    "## specify cost function\n",
    "def fcost(theta, X, y):\n",
    "    return (1./2*len(X)) * sum((fx(theta,X) - y)**2)"
   ]
  },
  {
   "cell_type": "code",
   "execution_count": 21,
   "metadata": {},
   "outputs": [],
   "source": [
    "## specify function to calculate gradient at a given theta - returns a vector of length(theta)\n",
    "# different from gradient descent method \n",
    "# not summing up the gradients \n",
    "def gradient(theta, X, y):\n",
    "    grad_theta = (1./len(X)) * np.multiply((fx(theta, X)) - y, X) \n",
    "    return grad_theta"
   ]
  },
  {
   "cell_type": "code",
   "execution_count": 22,
   "metadata": {},
   "outputs": [
    {
     "data": {
      "text/plain": [
       "array([0., 0., 0.])"
      ]
     },
     "execution_count": 22,
     "metadata": {},
     "output_type": "execute_result"
    }
   ],
   "source": [
    "### DO stochastic gradient descent\n",
    "# starting values for alpha & beta\n",
    "theta = np.zeros(pop_X.shape[1])\n",
    "theta"
   ]
  },
  {
   "cell_type": "code",
   "execution_count": 23,
   "metadata": {},
   "outputs": [],
   "source": [
    "# store starting theta & cost\n",
    "arraytheta = np.array([theta])\n",
    "arraycost = np.array([])"
   ]
  },
  {
   "cell_type": "code",
   "execution_count": 24,
   "metadata": {},
   "outputs": [],
   "source": [
    "\n",
    "# feed data through and update theta; capture cost and theta history\n",
    "for i in range(0, len(pop_X)):\n",
    "    \n",
    "    # calculate cost for theta on CURRENT point\n",
    "    cost = fcost(theta, pop_X[i], pop_Y[i])\n",
    "    arraycost = np.append(arraycost, cost)\n",
    "    \n",
    "    # update theta with gradient descent\n",
    "    theta = theta - n_learning_rate * gradient(theta, pop_X[i], pop_Y[i])\n",
    "    arraytheta = np.vstack([arraytheta, theta])"
   ]
  },
  {
   "cell_type": "code",
   "execution_count": 25,
   "metadata": {},
   "outputs": [
    {
     "data": {
      "text/plain": [
       "[<matplotlib.lines.Line2D at 0x25427c25470>]"
      ]
     },
     "execution_count": 25,
     "metadata": {},
     "output_type": "execute_result"
    },
    {
     "data": {
      "image/png": "[encoded data removed]",
      "text/plain": [
       "<Figure size 432x288 with 1 Axes>"
      ]
     },
     "metadata": {},
     "output_type": "display_data"
    }
   ],
   "source": [
    "# plot the prediction error \n",
    "plt.plot(arraycost)"
   ]
  },
  {
   "cell_type": "code",
   "execution_count": 26,
   "metadata": {},
   "outputs": [
    {
     "data": {
      "text/plain": [
       "array([-156.20265615,    4.83088053,  199.15303154])"
      ]
     },
     "execution_count": 26,
     "metadata": {},
     "output_type": "execute_result"
    }
   ],
   "source": [
    "arraytheta[-1] #the results show that overfitting has happened"
   ]
  },
  {
   "cell_type": "code",
   "execution_count": 27,
   "metadata": {},
   "outputs": [
    {
     "data": {
      "text/plain": [
       "array([80.78875844, -2.33242417,  0.9972805 ])"
      ]
     },
     "execution_count": 27,
     "metadata": {},
     "output_type": "execute_result"
    }
   ],
   "source": [
    "arraytheta[99]"
   ]
  },
  {
   "cell_type": "code",
   "execution_count": 28,
   "metadata": {},
   "outputs": [
    {
     "data": {
      "text/plain": [
       "array([168.35963973,   5.49717916, 179.68544769])"
      ]
     },
     "execution_count": 28,
     "metadata": {},
     "output_type": "execute_result"
    }
   ],
   "source": [
    "arraytheta[199]"
   ]
  },
  {
   "cell_type": "markdown",
   "metadata": {},
   "source": [
    "## FOBOS"
   ]
  },
  {
   "cell_type": "code",
   "execution_count": 56,
   "metadata": {},
   "outputs": [],
   "source": [
    "theta_fobos = np.zeros(pop_X.shape[1])"
   ]
  },
  {
   "cell_type": "code",
   "execution_count": 57,
   "metadata": {},
   "outputs": [],
   "source": [
    "# store starting theta & cost\n",
    "arraytheta_fobos = np.array([theta_fobos])\n",
    "arraycost_fobos = np.array([])"
   ]
  },
  {
   "cell_type": "code",
   "execution_count": 58,
   "metadata": {},
   "outputs": [],
   "source": [
    "## parameters(current hypterparameters values are specified randomly)\n",
    "n_learning_rate1 = 0.11\n",
    "n_learning_rate2 = 0.5\n",
    "lamda = 0.9"
   ]
  },
  {
   "cell_type": "code",
   "execution_count": 59,
   "metadata": {},
   "outputs": [],
   "source": [
    "def L1_fobos(w,theta):\n",
    "    w_new = np.zeros(len(w))\n",
    "    m = abs(w)>theta\n",
    "    \n",
    "    w_new[m] = w[m] - theta*np.sign(w[m])\n",
    "    \n",
    "    return w_new"
   ]
  },
  {
   "cell_type": "code",
   "execution_count": 60,
   "metadata": {},
   "outputs": [],
   "source": [
    "for i in range(0, len(pop_X)):\n",
    "    # calculate cost for theta on CURRENT point\n",
    "    cost = fcost(theta_fobos, pop_X[i], pop_Y[i])\n",
    "    arraycost_fobos = np.append(arraycost_fobos, cost)\n",
    "    \n",
    "    # update theta with gradient descent\n",
    "    grad = gradient(theta_fobos, pop_X[i], pop_Y[i])\n",
    "    \n",
    "    theta_fobos = L1_fobos(theta_fobos-n_learning_rate1*grad, n_learning_rate2*lamda)\n",
    "    \n",
    "    arraytheta_fobos = np.vstack([arraytheta_fobos, theta_fobos])"
   ]
  },
  {
   "cell_type": "code",
   "execution_count": 61,
   "metadata": {},
   "outputs": [
    {
     "data": {
      "text/plain": [
       "[<matplotlib.lines.Line2D at 0x25427dbe7f0>]"
      ]
     },
     "execution_count": 61,
     "metadata": {},
     "output_type": "execute_result"
    },
    {
     "data": {
      "image/png": "[encoded data removed]",
      "text/plain": [
       "<Figure size 432x288 with 1 Axes>"
      ]
     },
     "metadata": {},
     "output_type": "display_data"
    }
   ],
   "source": [
    "# plot the prediction error \n",
    "plt.plot(arraycost_fobos)"
   ]
  },
  {
   "cell_type": "code",
   "execution_count": 62,
   "metadata": {},
   "outputs": [
    {
     "data": {
      "text/plain": [
       "array([-146.89663537,    6.73245124,  181.01986327])"
      ]
     },
     "execution_count": 62,
     "metadata": {},
     "output_type": "execute_result"
    }
   ],
   "source": [
    "arraytheta_fobos[-1] #less weights for x^2 and 1 "
   ]
  },
  {
   "cell_type": "code",
   "execution_count": 63,
   "metadata": {},
   "outputs": [
    {
     "data": {
      "text/plain": [
       "array([68.59697008,  0.        ,  0.88146656])"
      ]
     },
     "execution_count": 63,
     "metadata": {},
     "output_type": "execute_result"
    }
   ],
   "source": [
    "arraytheta_fobos[99]"
   ]
  },
  {
   "cell_type": "code",
   "execution_count": 64,
   "metadata": {},
   "outputs": [
    {
     "data": {
      "text/plain": [
       "array([157.02140365,   2.4378068 , 174.37117923])"
      ]
     },
     "execution_count": 64,
     "metadata": {},
     "output_type": "execute_result"
    }
   ],
   "source": [
    "arraytheta_fobos[199]"
   ]
  },
  {
   "cell_type": "markdown",
   "metadata": {},
   "source": [
    "## rda"
   ]
  },
  {
   "cell_type": "code",
   "execution_count": 92,
   "metadata": {},
   "outputs": [],
   "source": [
    "theta_rda = np.zeros(pop_X.shape[1])"
   ]
  },
  {
   "cell_type": "code",
   "execution_count": 93,
   "metadata": {},
   "outputs": [],
   "source": [
    "# store starting theta & cost\n",
    "arraytheta_rda = np.array([theta_rda])\n",
    "arraycost_rda = np.array([])"
   ]
  },
  {
   "cell_type": "code",
   "execution_count": 94,
   "metadata": {},
   "outputs": [],
   "source": [
    "## parameters(current hypterparameters values are specified randomly)\n",
    "gamma = 0.11\n",
    "lamda = 1.5"
   ]
  },
  {
   "cell_type": "code",
   "execution_count": 95,
   "metadata": {},
   "outputs": [],
   "source": [
    "def L1_rda(g_bar, lamda, gamma):\n",
    "    w_new = np.zeros(len(g_bar))\n",
    "    m = abs(g_bar) > lamda\n",
    "    w_new[m] = -lamda**0.5 / gamma * (g_bar[m]-lamda*np.sign(g_bar[m]))\n",
    "    \n",
    "    return w_new"
   ]
  },
  {
   "cell_type": "code",
   "execution_count": 96,
   "metadata": {},
   "outputs": [],
   "source": [
    "g_accumulated = 0\n",
    "\n",
    "for i in range(0, len(pop_X)):\n",
    "    # calculate cost for theta on CURRENT point\n",
    "    cost = fcost(theta_rda, pop_X[i], pop_Y[i])\n",
    "    arraycost_rda = np.append(arraycost_rda, cost)\n",
    "    \n",
    "    # update theta with gradient descent\n",
    "    grad = gradient(theta_rda, pop_X[i], pop_Y[i])\n",
    "    g_accumulated += grad\n",
    "    g_bar = g_accumulated / (i+1)\n",
    "    \n",
    "    theta_rda = L1_rda(g_bar, lamda, gamma)\n",
    "    \n",
    "    arraytheta_rda = np.vstack([arraytheta_rda, theta_rda])"
   ]
  },
  {
   "cell_type": "code",
   "execution_count": 97,
   "metadata": {},
   "outputs": [
    {
     "data": {
      "text/plain": [
       "[<matplotlib.lines.Line2D at 0x25428f09400>]"
      ]
     },
     "execution_count": 97,
     "metadata": {},
     "output_type": "execute_result"
    },
    {
     "data": {
      "image/png": "[encoded data removed]",
      "text/plain": [
       "<Figure size 432x288 with 1 Axes>"
      ]
     },
     "metadata": {},
     "output_type": "display_data"
    }
   ],
   "source": [
    "# plot the prediction error \n",
    "plt.plot(arraycost_rda)"
   ]
  },
  {
   "cell_type": "code",
   "execution_count": 98,
   "metadata": {},
   "outputs": [
    {
     "data": {
      "text/plain": [
       "array([-57.58744691,  13.35763285, 139.19764567])"
      ]
     },
     "execution_count": 98,
     "metadata": {},
     "output_type": "execute_result"
    }
   ],
   "source": [
    "arraytheta_rda[-1]"
   ]
  },
  {
   "cell_type": "code",
   "execution_count": 99,
   "metadata": {},
   "outputs": [
    {
     "data": {
      "text/plain": [
       "array([60.87426429,  0.        ,  0.        ])"
      ]
     },
     "execution_count": 99,
     "metadata": {},
     "output_type": "execute_result"
    }
   ],
   "source": [
    "arraytheta_rda[99]"
   ]
  },
  {
   "cell_type": "code",
   "execution_count": 100,
   "metadata": {},
   "outputs": [
    {
     "data": {
      "text/plain": [
       "array([126.1719239 ,  19.94803078, 131.56462136])"
      ]
     },
     "execution_count": 100,
     "metadata": {},
     "output_type": "execute_result"
    }
   ],
   "source": [
    "arraytheta_rda[199]"
   ]
  },
  {
   "cell_type": "code",
   "execution_count": null,
   "metadata": {},
   "outputs": [],
   "source": []
  },
  {
   "cell_type": "code",
   "execution_count": null,
   "metadata": {},
   "outputs": [],
   "source": []
  }
 ],
 "metadata": {
  "kernelspec": {
   "display_name": "Python 3",
   "language": "python",
   "name": "python3"
  },
  "language_info": {
   "codemirror_mode": {
    "name": "ipython",
    "version": 3
   },
   "file_extension": ".py",
   "mimetype": "text/x-python",
   "name": "python",
   "nbconvert_exporter": "python",
   "pygments_lexer": "ipython3",
   "version": "3.6.5"
  }
 },
 "nbformat": 4,
 "nbformat_minor": 2
}
