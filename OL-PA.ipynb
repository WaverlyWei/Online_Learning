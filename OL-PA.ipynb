{
 "cells": [
  {
   "cell_type": "code",
   "execution_count": 1,
   "metadata": {},
   "outputs": [],
   "source": [
    "import numpy as np\n",
    "from sklearn.datasets import make_regression\n",
    "from mpl_toolkits.mplot3d import Axes3D\n",
    "import matplotlib.pyplot as plt\n",
    "from matplotlib import cm"
   ]
  },
  {
   "cell_type": "markdown",
   "metadata": {},
   "source": [
    "## I. Data Simulation "
   ]
  },
  {
   "cell_type": "code",
   "execution_count": 2,
   "metadata": {},
   "outputs": [],
   "source": [
    "# simulate population\n",
    "pop1_X, pop1_Y = make_regression(n_samples=100, noise=20, n_informative=1, n_features=1, random_state=1, bias=0) \n",
    "pop2_X, pop2_Y = make_regression(n_samples=100, noise=20, n_informative=1, n_features=1, random_state=1, bias=100) \n",
    "pop3_X, pop3_Y = make_regression(n_samples=100, noise=20, n_informative=1, n_features=1, random_state=1, bias=-100) "
   ]
  },
  {
   "cell_type": "code",
   "execution_count": 3,
   "metadata": {},
   "outputs": [],
   "source": [
    "# combine as matrix \n",
    "pop_X = np.concatenate((pop1_X,pop2_X,pop3_X))\n",
    "pop_Y = np.concatenate((pop1_Y, 2 * pop2_Y, -2 * pop3_Y))"
   ]
  },
  {
   "cell_type": "code",
   "execution_count": 4,
   "metadata": {},
   "outputs": [
    {
     "data": {
      "text/plain": [
       "(300, 2)"
      ]
     },
     "execution_count": 4,
     "metadata": {},
     "output_type": "execute_result"
    }
   ],
   "source": [
    "# Add intercept to covariates \n",
    "pop_X = np.append(np.vstack(np.ones(len(pop_X))),pop_X,1)\n",
    "pop_X.shape"
   ]
  },
  {
   "cell_type": "code",
   "execution_count": 5,
   "metadata": {},
   "outputs": [],
   "source": [
    "pop_Y = np.vstack(pop_Y)"
   ]
  },
  {
   "cell_type": "markdown",
   "metadata": {},
   "source": [
    "## Passive Aggressive"
   ]
  },
  {
   "cell_type": "code",
   "execution_count": 178,
   "metadata": {},
   "outputs": [],
   "source": [
    "## parameters\n",
    "epsilon = 500"
   ]
  },
  {
   "cell_type": "code",
   "execution_count": 179,
   "metadata": {},
   "outputs": [],
   "source": [
    "def fx(theta, X):\n",
    "    # X has intercept 1's \n",
    "    # X.theta = alpha + beta * x\n",
    "    return np.dot(X, theta)\n",
    "\n",
    "# squared error loss function\n",
    "def fcost(theta, X, y):\n",
    "    return (1./2*len(X)) * sum((fx(theta,X) - y)**2) \n",
    "\n",
    "def hingeloss(theta, X,y):\n",
    "    loss = abs((fx(theta,X) - y))\n",
    "    if loss <= epsilon:\n",
    "        return 0\n",
    "    else: \n",
    "        return loss - epsilon\n"
   ]
  },
  {
   "cell_type": "code",
   "execution_count": 180,
   "metadata": {},
   "outputs": [],
   "source": [
    "# starting values for alpha & beta\n",
    "theta = [0,0]"
   ]
  },
  {
   "cell_type": "code",
   "execution_count": 181,
   "metadata": {},
   "outputs": [],
   "source": [
    "# store starting theta & cost\n",
    "arraytheta = np.array([theta])\n",
    "arraycost = np.array([])\n",
    "arrayloss = np.array([])"
   ]
  },
  {
   "cell_type": "code",
   "execution_count": 182,
   "metadata": {},
   "outputs": [],
   "source": [
    "# feed data through and update theta; capture cost and theta history\n",
    "for i in range(0, len(pop_X)):\n",
    "    \n",
    "    # calculate cost for theta on CURRENT point\n",
    "    cost = fcost(theta, pop_X[i], pop_Y[i])\n",
    "    arraycost = np.append(arraycost, cost)\n",
    "    arrayloss = np.append(arrayloss, hingeloss(theta, pop_X[i],pop_Y[i]))\n",
    "    \n",
    "    # update theta with gradient descent\n",
    "    theta = theta + np.sign(sum((fx(theta,pop_X[i]) - pop_Y[i])))* hingeloss(theta, pop_X[i],pop_Y[i])/(pop_X[i]) * pop_X[i]\n",
    "    arraytheta = np.vstack([arraytheta, theta])\n",
    "   \n",
    " "
   ]
  },
  {
   "cell_type": "code",
   "execution_count": 183,
   "metadata": {},
   "outputs": [
    {
     "data": {
      "text/plain": [
       "[<matplotlib.lines.Line2D at 0x1a1bd644e0>]"
      ]
     },
     "execution_count": 183,
     "metadata": {},
     "output_type": "execute_result"
    },
    {
     "data": {
      "image/png": "[encoded data removed]",
      "text/plain": [
       "<Figure size 432x288 with 1 Axes>"
      ]
     },
     "metadata": {
      "needs_background": "light"
     },
     "output_type": "display_data"
    }
   ],
   "source": [
    "# plot the prediction error \n",
    "plt.plot(arrayloss)"
   ]
  },
  {
   "cell_type": "code",
   "execution_count": null,
   "metadata": {},
   "outputs": [],
   "source": []
  }
 ],
 "metadata": {
  "kernelspec": {
   "display_name": "Python 3",
   "language": "python",
   "name": "python3"
  },
  "language_info": {
   "codemirror_mode": {
    "name": "ipython",
    "version": 3
   },
   "file_extension": ".py",
   "mimetype": "text/x-python",
   "name": "python",
   "nbconvert_exporter": "python",
   "pygments_lexer": "ipython3",
   "version": "3.5.5"
  }
 },
 "nbformat": 4,
 "nbformat_minor": 2
}
