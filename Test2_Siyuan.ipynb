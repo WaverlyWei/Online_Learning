{
 "cells": [
  {
   "cell_type": "code",
   "execution_count": 3,
   "metadata": {},
   "outputs": [
    {
     "name": "stdout",
     "output_type": "stream",
     "text": [
      "Populating the interactive namespace from numpy and matplotlib\n"
     ]
    }
   ],
   "source": [
    "# prepare python\n",
    "%pylab inline\n",
    "import numpy as np\n",
    "from sklearn.datasets import make_regression\n",
    "from mpl_toolkits.mplot3d import Axes3D\n",
    "import matplotlib.pyplot as plt"
   ]
  },
  {
   "cell_type": "markdown",
   "metadata": {},
   "source": [
    "## I. Polynomial Dataset"
   ]
  },
  {
   "cell_type": "code",
   "execution_count": 16,
   "metadata": {},
   "outputs": [],
   "source": [
    "# simulate population\n",
    "pop1_X, pop1_Y = make_regression(n_samples=100, noise=20, n_informative=1, n_features=1, random_state=1, bias=0) \n",
    "pop2_X, pop2_Y = make_regression(n_samples=100, noise=20, n_informative=1, n_features=1, random_state=1, bias=100) \n",
    "pop3_X, pop3_Y = make_regression(n_samples=100, noise=20, n_informative=1, n_features=1, random_state=1, bias=-100)"
   ]
  },
  {
   "cell_type": "code",
   "execution_count": 17,
   "metadata": {},
   "outputs": [],
   "source": [
    "# combine as matrix \n",
    "pop_X = np.concatenate((pop1_X,pop2_X,pop3_X))\n",
    "pop_Y = np.concatenate((pop1_Y, 2 * pop2_Y, -2 * pop3_Y))\n",
    "pop_Y = np.vstack(pop_Y)"
   ]
  },
  {
   "cell_type": "code",
   "execution_count": null,
   "metadata": {},
   "outputs": [],
   "source": []
  },
  {
   "cell_type": "code",
   "execution_count": 18,
   "metadata": {},
   "outputs": [],
   "source": [
    "# 1D polynominal data generater\n",
    "def poly_generater_1D(X,n=3,flag=1):\n",
    "    d = len(X)\n",
    "    X_0 = X.copy()\n",
    "    \n",
    "    for i in range(2,n+1):\n",
    "        X = np.vstack([X,X_0**(i)])\n",
    "    \n",
    "    if flag == 1:\n",
    "        X = np.vstack([X,np.ones(d)])\n",
    "        \n",
    "    X = X.T\n",
    "    return X\n"
   ]
  },
  {
   "cell_type": "code",
   "execution_count": 19,
   "metadata": {},
   "outputs": [
    {
     "data": {
      "text/plain": [
       "(300, 4)"
      ]
     },
     "execution_count": 19,
     "metadata": {},
     "output_type": "execute_result"
    }
   ],
   "source": [
    "# the model now is more complicated\n",
    "\n",
    "pop_X = poly_generater_1D(pop_X.flatten())\n",
    "pop_X.shape"
   ]
  },
  {
   "cell_type": "code",
   "execution_count": null,
   "metadata": {},
   "outputs": [],
   "source": []
  },
  {
   "cell_type": "markdown",
   "metadata": {},
   "source": [
    "## SGD"
   ]
  },
  {
   "cell_type": "code",
   "execution_count": 342,
   "metadata": {},
   "outputs": [],
   "source": [
    "## parameters\n",
    "n_learning_rate = 0.1\n",
    "# same prediction and cost function as before \n",
    "## Specify prediction function\n",
    "def fx(theta, X):\n",
    "    return np.dot(X, theta)\n",
    " \n",
    "## specify cost function\n",
    "def fcost(theta, X, y):\n",
    "    return (1./2*len(X)) * sum((fx(theta,X) - y)**2)"
   ]
  },
  {
   "cell_type": "code",
   "execution_count": 343,
   "metadata": {},
   "outputs": [],
   "source": [
    "## specify function to calculate gradient at a given theta - returns a vector of length(theta)\n",
    "# different from gradient descent method \n",
    "# not summing up the gradients \n",
    "def gradient(theta, X, y):\n",
    "    grad_theta = (1./len(X)) * np.multiply((fx(theta, X)) - y, X) \n",
    "    return grad_theta"
   ]
  },
  {
   "cell_type": "code",
   "execution_count": 344,
   "metadata": {},
   "outputs": [
    {
     "data": {
      "text/plain": [
       "array([0., 0., 0., 0.])"
      ]
     },
     "execution_count": 344,
     "metadata": {},
     "output_type": "execute_result"
    }
   ],
   "source": [
    "### DO stochastic gradient descent\n",
    "# starting values for alpha & beta\n",
    "theta = np.zeros(pop_X.shape[1])\n",
    "theta"
   ]
  },
  {
   "cell_type": "code",
   "execution_count": 345,
   "metadata": {},
   "outputs": [],
   "source": [
    "# store starting theta & cost\n",
    "arraytheta = np.array([theta])\n",
    "arraycost = np.array([])"
   ]
  },
  {
   "cell_type": "code",
   "execution_count": 346,
   "metadata": {},
   "outputs": [],
   "source": [
    "\n",
    "# feed data through and update theta; capture cost and theta history\n",
    "for i in range(0, len(pop_X)):\n",
    "    \n",
    "    # calculate cost for theta on CURRENT point\n",
    "    cost = fcost(theta, pop_X[i], pop_Y[i])\n",
    "    arraycost = np.append(arraycost, cost)\n",
    "    \n",
    "    # update theta with gradient descent\n",
    "    theta = theta - n_learning_rate * gradient(theta, pop_X[i], pop_Y[i])\n",
    "    arraytheta = np.vstack([arraytheta, theta])"
   ]
  },
  {
   "cell_type": "code",
   "execution_count": 347,
   "metadata": {},
   "outputs": [
    {
     "data": {
      "text/plain": [
       "[<matplotlib.lines.Line2D at 0x2629106e860>]"
      ]
     },
     "execution_count": 347,
     "metadata": {},
     "output_type": "execute_result"
    },
    {
     "data": {
      "image/png": "[encoded data removed]",
      "text/plain": [
       "<Figure size 432x432 with 1 Axes>"
      ]
     },
     "metadata": {},
     "output_type": "display_data"
    }
   ],
   "source": [
    "# plot the prediction error \n",
    "plt.plot(arraycost)"
   ]
  },
  {
   "cell_type": "code",
   "execution_count": 348,
   "metadata": {},
   "outputs": [
    {
     "data": {
      "text/plain": [
       "array([ -9.53326442, -42.01935181, -33.05077171, 205.46851653])"
      ]
     },
     "execution_count": 348,
     "metadata": {},
     "output_type": "execute_result"
    }
   ],
   "source": [
    "arraytheta[-1] #the results show that overfitting has happened"
   ]
  },
  {
   "cell_type": "code",
   "execution_count": 349,
   "metadata": {},
   "outputs": [
    {
     "data": {
      "text/plain": [
       "array([38.58699623,  9.97473781, 10.33112269,  0.1388786 ])"
      ]
     },
     "execution_count": 349,
     "metadata": {},
     "output_type": "execute_result"
    }
   ],
   "source": [
    "arraytheta[99]"
   ]
  },
  {
   "cell_type": "code",
   "execution_count": 350,
   "metadata": {},
   "outputs": [
    {
     "data": {
      "text/plain": [
       "array([117.15873514,  12.14399038,  16.77276097, 179.70691436])"
      ]
     },
     "execution_count": 350,
     "metadata": {},
     "output_type": "execute_result"
    }
   ],
   "source": [
    "arraytheta[199]"
   ]
  },
  {
   "cell_type": "markdown",
   "metadata": {},
   "source": [
    "## FOBOS"
   ]
  },
  {
   "cell_type": "code",
   "execution_count": 324,
   "metadata": {},
   "outputs": [],
   "source": [
    "theta_fobos = np.zeros(pop_X.shape[1])"
   ]
  },
  {
   "cell_type": "code",
   "execution_count": 325,
   "metadata": {},
   "outputs": [],
   "source": [
    "# store starting theta & cost\n",
    "arraytheta_fobos = np.array([theta_fobos])\n",
    "arraycost_fobos = np.array([])"
   ]
  },
  {
   "cell_type": "code",
   "execution_count": 326,
   "metadata": {},
   "outputs": [],
   "source": [
    "## parameters(current hypterparameters values are specified randomly)\n",
    "n_learning_rate1 = 0.11\n",
    "n_learning_rate2 = 0.1\n",
    "lamda = 0.9"
   ]
  },
  {
   "cell_type": "code",
   "execution_count": 327,
   "metadata": {},
   "outputs": [],
   "source": [
    "def L1_fobos(w,theta):\n",
    "    w_new = np.zeros(len(w))\n",
    "    m = abs(w)>theta\n",
    "    \n",
    "    w_new[m] = w[m] - theta*np.sign(w[m])\n",
    "    \n",
    "    return w_new"
   ]
  },
  {
   "cell_type": "code",
   "execution_count": 328,
   "metadata": {},
   "outputs": [],
   "source": [
    "for i in range(0, len(pop_X)):\n",
    "    # calculate cost for theta on CURRENT point\n",
    "    cost = fcost(theta_fobos, pop_X[i], pop_Y[i])\n",
    "    arraycost_fobos = np.append(arraycost_fobos, cost)\n",
    "    \n",
    "    # update theta with gradient descent\n",
    "    grad = gradient(theta_fobos, pop_X[i], pop_Y[i])\n",
    "    \n",
    "    theta_fobos = L1_fobos(theta_fobos-n_learning_rate1*grad, n_learning_rate2*lamda)\n",
    "    \n",
    "    arraytheta_fobos = np.vstack([arraytheta_fobos, theta_fobos])"
   ]
  },
  {
   "cell_type": "code",
   "execution_count": 329,
   "metadata": {},
   "outputs": [
    {
     "data": {
      "text/plain": [
       "[<matplotlib.lines.Line2D at 0x26290fa3898>]"
      ]
     },
     "execution_count": 329,
     "metadata": {},
     "output_type": "execute_result"
    },
    {
     "data": {
      "image/png": "[encoded data removed]",
      "text/plain": [
       "<Figure size 432x432 with 1 Axes>"
      ]
     },
     "metadata": {},
     "output_type": "display_data"
    }
   ],
   "source": [
    "# plot the prediction error \n",
    "plt.plot(arraycost_fobos)"
   ]
  },
  {
   "cell_type": "code",
   "execution_count": 330,
   "metadata": {},
   "outputs": [
    {
     "data": {
      "text/plain": [
       "array([-19.91008199, -39.12507619, -27.21365181, 199.34301217])"
      ]
     },
     "execution_count": 330,
     "metadata": {},
     "output_type": "execute_result"
    }
   ],
   "source": [
    "arraytheta_fobos[-1] #less weights for x^2 and 1 "
   ]
  },
  {
   "cell_type": "code",
   "execution_count": 331,
   "metadata": {},
   "outputs": [
    {
     "data": {
      "text/plain": [
       "array([35.66148182, 10.87123431,  9.21788988,  1.28158876])"
      ]
     },
     "execution_count": 331,
     "metadata": {},
     "output_type": "execute_result"
    }
   ],
   "source": [
    "arraytheta_fobos[99]"
   ]
  },
  {
   "cell_type": "code",
   "execution_count": 332,
   "metadata": {},
   "outputs": [
    {
     "data": {
      "text/plain": [
       "array([120.43045305,   4.69628195,  17.32875338, 182.88468969])"
      ]
     },
     "execution_count": 332,
     "metadata": {},
     "output_type": "execute_result"
    }
   ],
   "source": [
    "arraytheta_fobos[199]"
   ]
  },
  {
   "cell_type": "markdown",
   "metadata": {},
   "source": [
    "## rda"
   ]
  },
  {
   "cell_type": "code",
   "execution_count": 297,
   "metadata": {},
   "outputs": [],
   "source": [
    "theta_rda = np.zeros(pop_X.shape[1])"
   ]
  },
  {
   "cell_type": "code",
   "execution_count": 298,
   "metadata": {},
   "outputs": [],
   "source": [
    "# store starting theta & cost\n",
    "arraytheta_rda = np.array([theta_rda])\n",
    "arraycost_rda = np.array([])"
   ]
  },
  {
   "cell_type": "code",
   "execution_count": 299,
   "metadata": {},
   "outputs": [],
   "source": [
    "## parameters(current hypterparameters values are specified randomly)\n",
    "gamma = 0.1\n",
    "lamda = 0.1"
   ]
  },
  {
   "cell_type": "code",
   "execution_count": 300,
   "metadata": {},
   "outputs": [],
   "source": [
    "def L1_rda(g_bar, lamda, gamma):\n",
    "    w_new = np.zeros(len(g_bar))\n",
    "    m = abs(g_bar) > lamda\n",
    "    w_new[m] = -lamda**0.5 / gamma * (g_bar[m]-lamda*np.sign(g_bar[m]))\n",
    "    \n",
    "    return w_new"
   ]
  },
  {
   "cell_type": "code",
   "execution_count": 301,
   "metadata": {},
   "outputs": [],
   "source": [
    "g_accumulated = 0\n",
    "\n",
    "for i in range(0, len(pop_X)):\n",
    "    # calculate cost for theta on CURRENT point\n",
    "    cost = fcost(theta_rda, pop_X[i], pop_Y[i])\n",
    "    arraycost_rda = np.append(arraycost_rda, cost)\n",
    "    \n",
    "    # update theta with gradient descent\n",
    "    grad = gradient(theta_rda, pop_X[i], pop_Y[i])\n",
    "    g_accumulated += grad\n",
    "    g_bar = g_accumulated / (i+1)\n",
    "    \n",
    "    theta_rda = L1_rda(g_bar, lamda, gamma)\n",
    "    \n",
    "    arraytheta_rda = np.vstack([arraytheta_rda, theta_rda])"
   ]
  },
  {
   "cell_type": "code",
   "execution_count": 302,
   "metadata": {},
   "outputs": [
    {
     "data": {
      "text/plain": [
       "[<matplotlib.lines.Line2D at 0x26290e89940>]"
      ]
     },
     "execution_count": 302,
     "metadata": {},
     "output_type": "execute_result"
    },
    {
     "data": {
      "image/png": "[encoded data removed]",
      "text/plain": [
       "<Figure size 432x432 with 1 Axes>"
      ]
     },
     "metadata": {},
     "output_type": "display_data"
    }
   ],
   "source": [
    "# plot the prediction error \n",
    "plt.plot(arraycost_rda)"
   ]
  },
  {
   "cell_type": "code",
   "execution_count": 303,
   "metadata": {},
   "outputs": [
    {
     "data": {
      "text/plain": [
       "array([ -7.42897175,  28.55803029, -35.44599586,  64.68185103])"
      ]
     },
     "execution_count": 303,
     "metadata": {},
     "output_type": "execute_result"
    }
   ],
   "source": [
    "arraytheta_rda[-1]"
   ]
  },
  {
   "cell_type": "code",
   "execution_count": 304,
   "metadata": {},
   "outputs": [
    {
     "data": {
      "text/plain": [
       "array([17.79555484,  4.52996431, 19.10982989,  1.61266002])"
      ]
     },
     "execution_count": 304,
     "metadata": {},
     "output_type": "execute_result"
    }
   ],
   "source": [
    "arraytheta_rda[99]"
   ]
  },
  {
   "cell_type": "code",
   "execution_count": 305,
   "metadata": {},
   "outputs": [
    {
     "data": {
      "text/plain": [
       "array([30.68610748, 40.69003897, 39.18182146, 59.68010289])"
      ]
     },
     "execution_count": 305,
     "metadata": {},
     "output_type": "execute_result"
    }
   ],
   "source": [
    "arraytheta_rda[199]"
   ]
  },
  {
   "cell_type": "code",
   "execution_count": null,
   "metadata": {},
   "outputs": [],
   "source": []
  },
  {
   "cell_type": "code",
   "execution_count": null,
   "metadata": {},
   "outputs": [],
   "source": []
  }
 ],
 "metadata": {
  "kernelspec": {
   "display_name": "Python 3",
   "language": "python",
   "name": "python3"
  },
  "language_info": {
   "codemirror_mode": {
    "name": "ipython",
    "version": 3
   },
   "file_extension": ".py",
   "mimetype": "text/x-python",
   "name": "python",
   "nbconvert_exporter": "python",
   "pygments_lexer": "ipython3",
   "version": "3.6.5"
  }
 },
 "nbformat": 4,
 "nbformat_minor": 2
}
